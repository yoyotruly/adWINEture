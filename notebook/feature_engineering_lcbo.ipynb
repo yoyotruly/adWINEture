{
 "cells": [
  {
   "cell_type": "markdown",
   "metadata": {},
   "source": [
    "## Feature Engineering\n",
    "Prepare dataset for ML"
   ]
  },
  {
   "cell_type": "code",
   "execution_count": 99,
   "metadata": {},
   "outputs": [],
   "source": [
    "import pandas as pd\n",
    "from sklearn.feature_extraction.text import TfidfVectorizer"
   ]
  },
  {
   "cell_type": "markdown",
   "metadata": {},
   "source": [
    "### Load Dataset"
   ]
  },
  {
   "cell_type": "code",
   "execution_count": 100,
   "metadata": {},
   "outputs": [
    {
     "data": {
      "text/plain": [
       "name                0\n",
       "price               0\n",
       "description         0\n",
       "sku                 0\n",
       "bottle_size         0\n",
       "alcohol_vol         0\n",
       "sugar_content    3077\n",
       "varietal            0\n",
       "country             0\n",
       "region           1818\n",
       "score            6336\n",
       "wine_type           0\n",
       "group               0\n",
       "dtype: int64"
      ]
     },
     "execution_count": 100,
     "metadata": {},
     "output_type": "execute_result"
    }
   ],
   "source": [
    "lcbo = pd.read_csv('../data/processed/lcbo.csv')\n",
    "\n",
    "# check missing values\n",
    "lcbo.isnull().sum()"
   ]
  },
  {
   "cell_type": "markdown",
   "metadata": {},
   "source": [
    "### Fill Missing Values"
   ]
  },
  {
   "cell_type": "code",
   "execution_count": 101,
   "metadata": {},
   "outputs": [
    {
     "data": {
      "text/plain": [
       "name             0\n",
       "price            0\n",
       "description      0\n",
       "sku              0\n",
       "bottle_size      0\n",
       "alcohol_vol      0\n",
       "sugar_content    0\n",
       "varietal         0\n",
       "country          0\n",
       "region           0\n",
       "score            0\n",
       "wine_type        0\n",
       "group            0\n",
       "dtype: int64"
      ]
     },
     "execution_count": 101,
     "metadata": {},
     "output_type": "execute_result"
    }
   ],
   "source": [
    "# fill remaining missing values\n",
    "lcbo['region'].fillna('General', inplace=True)\n",
    "lcbo['score'].fillna(50, inplace=True)\n",
    "lcbo['sugar_content'].fillna(\n",
    "    round(lcbo.groupby('varietal')['sugar_content'].transform('mean'), 1),\n",
    "    inplace=True\n",
    ")\n",
    "lcbo['sugar_content'].fillna(\n",
    "    round(lcbo.groupby('wine_type')['sugar_content'].transform('mean'), 1),\n",
    "    inplace=True\n",
    ")\n",
    "\n",
    "# check missing values again\n",
    "lcbo.isnull().sum()"
   ]
  },
  {
   "cell_type": "markdown",
   "metadata": {},
   "source": [
    "### Dummy Encoding Categorical Features"
   ]
  },
  {
   "cell_type": "code",
   "execution_count": 102,
   "metadata": {},
   "outputs": [],
   "source": [
    "# create dummy table for wine type, group, country and region\n",
    "lcbo = pd.get_dummies(lcbo, columns=['wine_type', 'group', 'country', 'region'])\n",
    "\n",
    "# create dummy table for varietal\n",
    "## extract all varietals\n",
    "varietals = []\n",
    "for val in lcbo.varietal:\n",
    "    val = val.split('/')\n",
    "    varietals.extend(val)\n",
    "varietals = set(varietals)\n",
    "\n",
    "## create dummy table for varietal and drop original column\n",
    "def split_varietal(val):\n",
    "    try:\n",
    "        if val.find(varietal) > -1:\n",
    "            return 1\n",
    "        else:\n",
    "            return 0\n",
    "    except AttributeError:\n",
    "        return 0\n",
    "    \n",
    "for varietal in varietals:\n",
    "    lcbo[varietal] = lcbo['varietal'].apply(split_varietal)\n",
    "\n",
    "lcbo.drop(columns=['varietal'], inplace=True)"
   ]
  },
  {
   "cell_type": "markdown",
   "metadata": {},
   "source": [
    "### Create TF-IDF for Description"
   ]
  },
  {
   "cell_type": "code",
   "execution_count": 103,
   "metadata": {
    "scrolled": true
   },
   "outputs": [],
   "source": [
    "# create tf-idf matrix\n",
    "vec = TfidfVectorizer()\n",
    "X = vec.fit_transform(lcbo['description'].fillna('na'))\n",
    "\n",
    "# convert tf-idf to dataframe and append to lcbo\n",
    "tfidf = pd.DataFrame(X.toarray(), columns=vec.get_feature_names())\n",
    "lcbo = pd.concat([lcbo.drop(columns=['description']), tfidf], axis=1)"
   ]
  },
  {
   "cell_type": "markdown",
   "metadata": {},
   "source": [
    "### Reduce Dimensions with PCA"
   ]
  },
  {
   "cell_type": "code",
   "execution_count": null,
   "metadata": {},
   "outputs": [],
   "source": []
  },
  {
   "cell_type": "markdown",
   "metadata": {},
   "source": [
    "## Export Dataset"
   ]
  },
  {
   "cell_type": "code",
   "execution_count": 104,
   "metadata": {},
   "outputs": [],
   "source": [
    "lcbo.to_csv('../data/processed/lcbo_sparse.csv', index=False)"
   ]
  }
 ],
 "metadata": {
  "kernelspec": {
   "display_name": "Python 3",
   "language": "python",
   "name": "python3"
  },
  "language_info": {
   "codemirror_mode": {
    "name": "ipython",
    "version": 3
   },
   "file_extension": ".py",
   "mimetype": "text/x-python",
   "name": "python",
   "nbconvert_exporter": "python",
   "pygments_lexer": "ipython3",
   "version": "3.7.3"
  }
 },
 "nbformat": 4,
 "nbformat_minor": 2
}
