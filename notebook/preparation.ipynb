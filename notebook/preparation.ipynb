{
 "cells": [
  {
   "cell_type": "markdown",
   "metadata": {},
   "source": [
    "## Data Preparation\n",
    "Join lcbo_listing and lcbo_product as one dataframe, clean and tidy columns, and create some basic new features"
   ]
  },
  {
   "cell_type": "code",
   "execution_count": 342,
   "metadata": {},
   "outputs": [],
   "source": [
    "import numpy as np\n",
    "import pandas as pd"
   ]
  },
  {
   "cell_type": "code",
   "execution_count": 345,
   "metadata": {},
   "outputs": [
    {
     "name": "stdout",
     "output_type": "stream",
     "text": [
      "(9499, 7)\n"
     ]
    },
    {
     "data": {
      "text/plain": [
       "name              0\n",
       "price             0\n",
       "prod_url          0\n",
       "category        196\n",
       "description    1040\n",
       "details           0\n",
       "sku               0\n",
       "dtype: int64"
      ]
     },
     "execution_count": 345,
     "metadata": {},
     "output_type": "execute_result"
    }
   ],
   "source": [
    "listing = pd.read_csv('../data/raw/lcbo_listing.csv')\n",
    "product = pd.read_csv('../data/raw/lcbo_product.csv')\n",
    "lcbo = pd.merge(listing, product)\n",
    "\n",
    "print(lcbo.shape)\n",
    "lcbo.isnull().sum()"
   ]
  },
  {
   "cell_type": "code",
   "execution_count": 346,
   "metadata": {},
   "outputs": [],
   "source": [
    "# flatten 'details' column to separate columns\n",
    "lcbo['details'] = lcbo['details'].map(eval)\n",
    "lcbo = pd.concat([lcbo.drop(columns=['details']), lcbo['details'].apply(pd.Series)], axis=1)\n",
    "\n",
    "# clean column names\n",
    "lcbo.columns = (lcbo.columns.str.replace(':', '')\n",
    "                            .str.replace(' ', '_')\n",
    "                            .str.replace('/', '_')\n",
    "                            .str.lower())\n",
    "\n",
    "# clean up columns\n",
    "lcbo['bottle_size'] = lcbo.bottle_size.str.extract('(\\d+)')\n",
    "lcbo['sugar_content'] = lcbo.sugar_content.str.extract('(\\d+)')\n",
    "lcbo['alcohol_vol'] = lcbo.alcohol_vol.str.replace('%', '')\n",
    "lcbo['made_in'] = lcbo.made_in.str.strip().str.split(', ')\n",
    "lcbo['country'] = np.where(lcbo.made_in.str.len() == 2, lcbo.made_in.str[1], lcbo.made_in.str[0])\n",
    "lcbo['region'] = np.where(lcbo.made_in.str.len() == 2, lcbo.made_in.str[0], np.nan)\n",
    "lcbo['score'] = lcbo.description.str.extract('(?i)\\Wscore\\W.*?(\\d{2})').astype(float)\n",
    "lcbo['score'] = np.where(lcbo.score < 50, np.nan, lcbo.score)\n",
    "\n",
    "# create new features\n",
    "lcbo['wine_type'] = np.where(lcbo.prod_url.str.contains('red-wine-14001'), 'red',\n",
    "                    np.where(lcbo.prod_url.str.contains('white-wine-14002'), 'white',\n",
    "                    np.where(lcbo.prod_url.str.contains('ros%C3%A9-wine-14003'), 'rose',\n",
    "                             'sparkling')))\n",
    "\n",
    "lcbo['group'] = (lcbo.sku.str.strip()\n",
    "                         .str.split(':')\n",
    "                         .str[0]\n",
    "                         .str.replace('#', ''))\n",
    "\n",
    "lcbo['sku'] = (lcbo.sku.str.strip()\n",
    "                       .str.split(':')\n",
    "                       .str[1]\n",
    "                       .str.strip())\n",
    "\n",
    "# fill empty strings with nan\n",
    "lcbo.replace('', np.nan, inplace=True)\n",
    "\n",
    "# drop columns\n",
    "lcbo.drop(columns=['prod_url', 'made_in', 'sweetness_descriptor', 'style',\n",
    "                   'this_is_a_vqa_wine', 'this_is_a_kosher_product.'],\n",
    "          inplace=True)"
   ]
  },
  {
   "cell_type": "code",
   "execution_count": 347,
   "metadata": {},
   "outputs": [],
   "source": [
    "lcbo.to_csv('../data/processed/lcbo.csv', index=False)"
   ]
  }
 ],
 "metadata": {
  "kernelspec": {
   "display_name": "Python 3",
   "language": "python",
   "name": "python3"
  },
  "language_info": {
   "codemirror_mode": {
    "name": "ipython",
    "version": 3
   },
   "file_extension": ".py",
   "mimetype": "text/x-python",
   "name": "python",
   "nbconvert_exporter": "python",
   "pygments_lexer": "ipython3",
   "version": "3.7.3"
  }
 },
 "nbformat": 4,
 "nbformat_minor": 2
}
