{
 "cells": [
  {
   "cell_type": "markdown",
   "metadata": {},
   "source": [
    "## Data Preparation\n",
    "Join lcbo_listing and lcbo_product as one dataframe, clean and tidy columns and preprocess text features"
   ]
  },
  {
   "cell_type": "code",
   "execution_count": 15,
   "metadata": {},
   "outputs": [],
   "source": [
    "import numpy as np\n",
    "import pandas as pd\n",
    "from unidecode import unidecode"
   ]
  },
  {
   "cell_type": "code",
   "execution_count": 16,
   "metadata": {},
   "outputs": [],
   "source": [
    "import sys\n",
    "sys.path.insert(0, '../modules')\n",
    "from helpers import clean_text"
   ]
  },
  {
   "cell_type": "markdown",
   "metadata": {},
   "source": [
    "### Load and Merge Dataset"
   ]
  },
  {
   "cell_type": "code",
   "execution_count": 65,
   "metadata": {},
   "outputs": [
    {
     "name": "stdout",
     "output_type": "stream",
     "text": [
      "(9307, 7)\n"
     ]
    },
    {
     "data": {
      "text/plain": [
       "name              0\n",
       "price             0\n",
       "prod_url          0\n",
       "category        195\n",
       "description    1025\n",
       "details           0\n",
       "sku               0\n",
       "dtype: int64"
      ]
     },
     "execution_count": 65,
     "metadata": {},
     "output_type": "execute_result"
    }
   ],
   "source": [
    "listing = pd.read_csv('../data/raw/lcbo_listing_20190626.csv')\n",
    "product = pd.read_csv('../data/raw/lcbo_product_20190626.csv')\n",
    "\n",
    "# merge listing and product\n",
    "lcbo = pd.merge(listing, product)\n",
    "\n",
    "# subset dataset with product price less than C$500 (scope of the project)\n",
    "lcbo = lcbo[lcbo.price < 500]\n",
    "\n",
    "# check dataset shape and missing values\n",
    "print(lcbo.shape)\n",
    "lcbo.isnull().sum()"
   ]
  },
  {
   "cell_type": "markdown",
   "metadata": {},
   "source": [
    "### Initial Data Cleaning"
   ]
  },
  {
   "cell_type": "code",
   "execution_count": 66,
   "metadata": {},
   "outputs": [],
   "source": [
    "# flatten 'details' column to separate columns\n",
    "lcbo['details'] = lcbo['details'].map(eval)\n",
    "lcbo = pd.concat([lcbo.drop(columns=['details']), lcbo['details'].apply(pd.Series)], axis=1)\n",
    "\n",
    "# clean column names\n",
    "lcbo.columns = (lcbo.columns.str.replace(':', '')\n",
    "                            .str.replace(' |/', '_')\n",
    "                            .str.lower())\n",
    "\n",
    "# extract country and region info from made_in\n",
    "lcbo['made_in'] = lcbo.made_in.str.strip().str.split(', ')\n",
    "lcbo['country'] = np.where(lcbo.made_in.str.len() == 2, lcbo.made_in.str[1], lcbo.made_in.str[0])\n",
    "lcbo['region'] = np.where(lcbo.made_in.str.len() == 2, lcbo.made_in.str[0], np.nan)\n",
    "\n",
    "# extract numeric values from columns\n",
    "lcbo['bottle_size'] = lcbo.bottle_size.str.extract('(\\d+)').astype(int)\n",
    "lcbo['sugar_content'] = lcbo.sugar_content.str.extract('(\\d+)').astype(float)\n",
    "lcbo['alcohol_vol'] = lcbo.alcohol_vol.str.replace('%', '').astype(float)\n",
    "\n",
    "# extract score info from descriptions\n",
    "lcbo['score'] = lcbo.description.str.extract('(?i)\\Wscore\\W.*?(\\d{2})').astype(float)\n",
    "lcbo['score'] = np.where(lcbo.score < 60, np.nan, lcbo.score)\n",
    "\n",
    "# extract wine type from product url\n",
    "lcbo['wine_type'] = np.where(lcbo.prod_url.str.contains('red-wine-14001'), 'red',\n",
    "                    np.where(lcbo.prod_url.str.contains('white-wine-14002'), 'white',\n",
    "                    np.where(lcbo.prod_url.str.contains('ros%C3%A9-wine-14003'), 'rose',\n",
    "                             'sparkling')))\n",
    "\n",
    "# separate SKU# and group (lcbo or vintage)\n",
    "lcbo['group'] = (lcbo.sku.str.split(':')\n",
    "                         .str[0]\n",
    "                         .str.replace('#', '')\n",
    "                         .str.strip())\n",
    "lcbo['sku'] = (lcbo.sku.str.split(':')\n",
    "                       .str[1]\n",
    "                       .str.strip())"
   ]
  },
  {
   "cell_type": "markdown",
   "metadata": {},
   "source": [
    "### Preprocess Text Columns"
   ]
  },
  {
   "cell_type": "code",
   "execution_count": 67,
   "metadata": {},
   "outputs": [],
   "source": [
    "# replace field that is entirely space or empty with NaN\n",
    "lcbo.replace(r'^\\s*$', np.nan, regex=True, inplace=True)"
   ]
  },
  {
   "cell_type": "markdown",
   "metadata": {},
   "source": [
    "#### Preprocess varietal column"
   ]
  },
  {
   "cell_type": "code",
   "execution_count": null,
   "metadata": {},
   "outputs": [],
   "source": [
    "# fill missing varietal info with category\n",
    "lcbo['varietal'].fillna(lcbo['category'], inplace=True)\n",
    "\n",
    "# clean text in varietal column\n",
    "lcbo['varietal'] = lcbo.varietal.apply(lambda x: x if pd.isnull(x) else unidecode(x))\n",
    "replace_list = ['\\(.+?\\)', ' blend', ' table wines', ' wines', '^named.*', ' red', ' white', \n",
    "                ' rose', '^other.*', '^regionaled.*', ' - other', ' - meritage']\n",
    "lcbo['varietal'] = (lcbo.varietal.str.lower()\n",
    "                                 .str.replace('|'.join(replace_list), '', regex=True)\n",
    "                                 .str.replace('/ ', '/'))\n",
    "\n",
    "# replace alternative names\n",
    "lcbo.varietal.replace(['negro amaro', 'refosco dal peduncolo rosso', 'tokaj', 'aragones'],\n",
    "                      ['negroamaro', 'refosco', 'tokaji', 'aragonez'], inplace=True)\n",
    "\n",
    "# replace empty strings after preprocessing with NaN\n",
    "lcbo['varietal'].replace(r'^\\s*$', np.nan, regex=True, inplace=True)\n",
    "\n",
    "# fill missing varietal info with wine type\n",
    "lcbo['varietal'].fillna(lcbo['wine_type'], inplace=True)"
   ]
  },
  {
   "cell_type": "markdown",
   "metadata": {},
   "source": [
    "#### Prepocess description column"
   ]
  },
  {
   "cell_type": "code",
   "execution_count": null,
   "metadata": {},
   "outputs": [],
   "source": [
    "# fill missing description\n",
    "lcbo['description'].fillna('na', inplace=True)\n",
    "\n",
    "# clean text in description\n",
    "lcbo['description'] = lcbo.description.apply(clean_text)"
   ]
  },
  {
   "cell_type": "markdown",
   "metadata": {},
   "source": [
    "### Drop Columns"
   ]
  },
  {
   "cell_type": "code",
   "execution_count": 69,
   "metadata": {},
   "outputs": [],
   "source": [
    "# drop columns that are no longer needed\n",
    "drop_cols = ['prod_url', 'category', 'made_in', 'by', 'sweetness_descriptor', 'style',\n",
    "             'release_date', 'this_is_a_vqa_wine', 'this_is_a_kosher_product.']\n",
    "lcbo.drop(columns= drop_cols, inplace=True)"
   ]
  },
  {
   "cell_type": "markdown",
   "metadata": {},
   "source": [
    "### Export Processed Dataset"
   ]
  },
  {
   "cell_type": "code",
   "execution_count": 70,
   "metadata": {},
   "outputs": [],
   "source": [
    "lcbo.to_csv('../data/processed/lcbo.csv', index=False)"
   ]
  }
 ],
 "metadata": {
  "kernelspec": {
   "display_name": "Python 3",
   "language": "python",
   "name": "python3"
  },
  "language_info": {
   "codemirror_mode": {
    "name": "ipython",
    "version": 3
   },
   "file_extension": ".py",
   "mimetype": "text/x-python",
   "name": "python",
   "nbconvert_exporter": "python",
   "pygments_lexer": "ipython3",
   "version": "3.7.3"
  }
 },
 "nbformat": 4,
 "nbformat_minor": 2
}
