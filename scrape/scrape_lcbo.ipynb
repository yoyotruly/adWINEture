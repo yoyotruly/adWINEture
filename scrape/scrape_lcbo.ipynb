{
 "cells": [
  {
   "cell_type": "code",
   "execution_count": 23,
   "metadata": {},
   "outputs": [],
   "source": [
    "import requests\n",
    "from scrapy import Selector\n",
    "from bs4 import BeautifulSoup"
   ]
  },
  {
   "cell_type": "code",
   "execution_count": 28,
   "metadata": {
    "scrolled": false
   },
   "outputs": [],
   "source": [
    "url = 'https://www.lcbo.com/webapp/wcs/stores/servlet/en/lcbo/wine-14/white-wine-14002'\n",
    "agent = {'User-Agent':'Mozilla/5.0'}\n",
    "page = requests.get(url, headers=agent).content\n",
    "sel = Selector(text=page)"
   ]
  },
  {
   "cell_type": "code",
   "execution_count": 38,
   "metadata": {},
   "outputs": [],
   "source": [
    "url1 = sel.css('.product_name a::attr(href)').extract()[0]\n",
    "page1 = requests.get(url1, headers=agent).content\n",
    "sel1 = Selector(text=page1)"
   ]
  },
  {
   "cell_type": "code",
   "execution_count": 64,
   "metadata": {},
   "outputs": [
    {
     "data": {
      "text/plain": [
       "['The grapes for this light and refreshing wine are grown on volcanic soils in the hills just southeast of the city of Rome. This is a delicate and lightly fruity wine that excels as a partner for chicken, fish and light cuisine. Enjoy citrus and herbal flavours, with a soft minerally note on the finish.']"
      ]
     },
     "execution_count": 64,
     "metadata": {},
     "output_type": "execute_result"
    }
   ],
   "source": [
    "# product name\n",
    "sel.css('.product_name a::text').extract()\n",
    "\n",
    "# price\n",
    "sel.css('#content .price::text').extract()\n",
    "\n",
    "# product url\n",
    "sel.css('.product_name a::attr(href)').extract()\n",
    "\n",
    "# detail category\n",
    "sel1.css('.product-details-list b::text').extract()\n",
    "\n",
    "# detail info\n",
    "sel1.css('.product-details-list span::text').extract()\n",
    "\n",
    "# description\n",
    "sel1.css('#contentWrapper .hidden-xs::text').extract()\n",
    "\n",
    "# next page url\n",
    "sel.css('#WC_SearchBasedNavigationResults_pagination_link_right_categoryResults::attr(href)').extract_first()"
   ]
  },
  {
   "cell_type": "code",
   "execution_count": null,
   "metadata": {},
   "outputs": [],
   "source": []
  }
 ],
 "metadata": {
  "kernelspec": {
   "display_name": "Python 3",
   "language": "python",
   "name": "python3"
  },
  "language_info": {
   "codemirror_mode": {
    "name": "ipython",
    "version": 3
   },
   "file_extension": ".py",
   "mimetype": "text/x-python",
   "name": "python",
   "nbconvert_exporter": "python",
   "pygments_lexer": "ipython3",
   "version": "3.7.1"
  }
 },
 "nbformat": 4,
 "nbformat_minor": 2
}
